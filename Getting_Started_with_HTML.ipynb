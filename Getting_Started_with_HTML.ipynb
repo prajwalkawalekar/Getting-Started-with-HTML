{
  "nbformat": 4,
  "nbformat_minor": 0,
  "metadata": {
    "colab": {
      "provenance": []
    },
    "kernelspec": {
      "name": "python3",
      "display_name": "Python 3"
    },
    "language_info": {
      "name": "python"
    }
  },
  "cells": [
    {
      "cell_type": "markdown",
      "source": [
        "#Getting Started with HTML"
      ],
      "metadata": {
        "id": "T2nOonOiTcod"
      }
    },
    {
      "cell_type": "code",
      "source": [
        "# 1.\tWrite a simple program in HTML  that displays the heading \"HTML defines the content and structure of your website” on the web browser?\n",
        "\n",
        "  <!DOCTYPE html>\n",
        "  <html>\n",
        "  <head>\n",
        "  \t<title>HTML Heading</title>\n",
        "  </head>\n",
        "  <body>\n",
        "  \t<h1>HTML defines the content and structure of your website</h1>\n",
        "  </body>\n",
        "  </html>"
      ],
      "metadata": {
        "id": "T_yGMRAiURXF"
      },
      "execution_count": null,
      "outputs": []
    },
    {
      "cell_type": "markdown",
      "source": [
        "2. Explain the purpose of comments in HTML and provide an example of how to use comments in an HTML document?\n",
        "\n",
        "  -> Purpose of Comments in HTML: Comments in HTML are used to add notes or explanations to the code that are not visible to the user when the page is rendered in a web browser. The purposes of comments in HTML are:\n",
        "\n",
        "  1.Code Explanation: Comments help explain the purpose of a section of code, making it easier for developers to understand the code.\n",
        "  \n",
        "  2.Debugging: Comments can be used to temporarily remove a section of code for debugging purposes.\n",
        "  \n",
        "  3.Collaboration: Comments facilitate collaboration among developers by providing context and explanations for the code.\n"
      ],
      "metadata": {
        "id": "BzR5keW9UrgF"
      }
    },
    {
      "cell_type": "code",
      "source": [
        "# Example of Using Comments in an HTML Document:\n",
        "\n",
        "<!DOCTYPE html>\n",
        "<html>\n",
        "<head>\n",
        "    <title>Example HTML Document</title>\n",
        "</head>\n",
        "<body>\n",
        "    <!-- This section displays a heading -->\n",
        "    <h1>Welcome to My Website</h1>\n",
        "\n",
        "    <!-- This section displays a paragraph -->\n",
        "    <p>This is a sample paragraph.</p>\n",
        "\n",
        "    <!--\n",
        "        This is a multi-line comment in HTML.\n",
        "        It can span multiple lines.\n",
        "    -->\n",
        "</body>\n",
        "</html>\n",
        "\n",
        "\"\"\"\n",
        "In this example:\n",
        "\n",
        "- <!-- This is a comment in HTML --> is a single-line comment.\n",
        "- <!-- This section displays a heading --> and <!-- This section displays a paragraph --> are comments explaining the purpose of the code sections.\n",
        "- The multi-line comment <!-- This is a multi-line comment in HTML. It can span multiple lines. --> demonstrates how to write comments that span multiple lines.\n",
        "\"\"\""
      ],
      "metadata": {
        "id": "uHgnqWiRU2GM"
      },
      "execution_count": null,
      "outputs": []
    },
    {
      "cell_type": "code",
      "source": [
        "# 3.\tWrite an HTML program that includes a heading, a paragraph of text, a horizontal line, and a line break. Arrange these elements to create a simple web page layout?\n",
        "\n",
        "<!DOCTYPE html>\n",
        "<html>\n",
        "<head>\n",
        "\t<title>Simple Web Page Layout</title>\n",
        "</head>\n",
        "<body>\n",
        "\t<!-- Main Heading -->\n",
        "\t<h1>Welcome to My Web Page</h1>\n",
        "\n",
        "\t<!-- Horizontal Line -->\n",
        "\t<hr>\n",
        "\n",
        "\t<!-- Paragraph of Text -->\n",
        "\t<p>This is a simple web page layout that includes a heading, a paragraph of text, a horizontal line, and a line break.</p>\n",
        "\n",
        "\t<!-- Line Break -->\n",
        "\t<br>\n",
        "\n",
        "\t<!-- Additional Text -->\n",
        "\t<p>You can add more text, images, or other HTML elements to create a more complex web page layout.</p>\n",
        "</body>\n",
        "</html>"
      ],
      "metadata": {
        "id": "h9xq0vRIVsZE"
      },
      "execution_count": null,
      "outputs": []
    },
    {
      "cell_type": "code",
      "source": [
        "# 4.\tWrite a short note on Tag and element with an example.\n",
        "\n",
        "   \"\"\"\n",
        "   ->In HTML, a tag is a keyword surrounded by angle brackets (< and >), while an element is the tag and its content.\n",
        "\n",
        "Example:\n",
        "<p>This is a paragraph of text.</p>\n",
        "\n",
        "In this example:\n",
        "\n",
        "- <p> is the opening tag, indicating the start of a paragraph element.\n",
        "- </p> is the closing tag, indicating the end of the paragraph element.\n",
        "- This is a paragraph of text. is the content of the paragraph element.\n",
        "- The entire structure, including the tags and content, is the paragraph element.\n",
        "\"\"\""
      ],
      "metadata": {
        "id": "LlF2oPK3Wai8"
      },
      "execution_count": null,
      "outputs": []
    },
    {
      "cell_type": "markdown",
      "source": [
        "5.\tWhat is the DOCTYPE Declaration in HTML?\n",
        "\n",
        "\n",
        "  -> The DOCTYPE declaration, also known as the document type declaration, is the first line of code in an HTML document. It informs the web browser about the document type and version of HTML used in the document.\n",
        "\n",
        "Purpose:\n",
        "- The DOCTYPE declaration serves several purposes:\n",
        "\n",
        "1. Document Type: It specifies the type of document, which in this case is HTML.\n",
        "2. Version: It indicates the version of HTML used in the document.\n",
        "3. Validation: It helps validators and browsers determine how to interpret the HTML code.\n"
      ],
      "metadata": {
        "id": "Btys7SXzWomU"
      }
    }
  ]
}